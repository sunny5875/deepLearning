{
  "nbformat": 4,
  "nbformat_minor": 0,
  "metadata": {
    "colab": {
      "private_outputs": true,
      "provenance": []
    },
    "kernelspec": {
      "display_name": "Python 3",
      "name": "python3"
    },
    "accelerator": "GPU"
  },
  "cells": [
    {
      "cell_type": "markdown",
      "metadata": {
        "id": "rX8mhOLljYeM"
      },
      "source": [
        "##### Copyright 2019 The TensorFlow Authors."
      ]
    },
    {
      "cell_type": "code",
      "metadata": {
        "id": "0trJmd6DjqBZ"
      },
      "source": [
        "import tensorflow as tf\n",
        "import numpy as np\n",
        "import matplotlib.pyplot as plt\n"
      ],
      "execution_count": null,
      "outputs": []
    },
    {
      "cell_type": "code",
      "source": [
        "source = np.zeros([5,5])\n",
        "source[2,2] = 1\n",
        "print('H = ', source)\n",
        "\n",
        "filter = np.zeros([3,3])#np.eye(3)\n",
        "filter[0, 1] = 5\n",
        "print('K =', filter)\n",
        "\n",
        "\n",
        "\n",
        "\n",
        "#reshape\n",
        "source = tf.reshape(source, [1, 5, 5, 1], name=None)#reshape\n",
        "\n",
        "filter = np.flipud(np.fliplr(filter))#why this?\n",
        "filter = tf.reshape(filter, [3, 3, 1, 1], name=None)#reshape\n",
        "\n",
        "\n",
        "conv_out = tf.nn.conv2d(source, filter, 1, padding = 'SAME', data_format='NHWC')\n",
        "conv_out = np.squeeze(conv_out)\n",
        "print('G =', conv_out)\n",
        "\n",
        "\n",
        "\n"
      ],
      "metadata": {
        "id": "IYSTAMrbNJ6a"
      },
      "execution_count": null,
      "outputs": []
    },
    {
      "cell_type": "code",
      "metadata": {
        "id": "SKDmZMnpml3p"
      },
      "source": [
        "source = np.zeros([5,5])\n",
        "source[0,0] = 1\n",
        "source[0,1] = 2\n",
        "source[0,2] = 3\n",
        "\n",
        "source[1,1] = 4\n",
        "source[1,2] = 5\n",
        "source[1,3] = 6\n",
        "\n",
        "source[2,2] = 7\n",
        "source[2,3] = 8\n",
        "source[2,4] = 9\n",
        "\n",
        "source[4,4] = 10\n",
        "\n",
        "print('H = ', source)\n",
        "\n",
        "filter = np.zeros([3,3])#np.eye(3)\n",
        "# filter[2,1] = 1\n",
        "\n",
        "filter[0, 0] = 1\n",
        "filter[0, 2] = 2\n",
        "filter[1, 1] = 5\n",
        "\n",
        "filter[2, 0] = 3\n",
        "filter[2, 2] = 4\n",
        "\n",
        "print('K =', filter)\n",
        "\n",
        "\n",
        "\n",
        "\n",
        "#reshape\n",
        "source = tf.reshape(source, [1, 5, 5, 1], name=None)#reshape\n",
        "\n",
        "filter = np.flipud(np.fliplr(filter))\n",
        "filter = tf.reshape(filter, [3, 3, 1, 1], name=None)#reshape\n",
        "\n",
        "\n"
      ],
      "execution_count": null,
      "outputs": []
    },
    {
      "cell_type": "code",
      "source": [
        "conv_out = tf.nn.conv2d(source, filter, 1, padding = 'SAME', data_format='NHWC')\n",
        "conv_out = np.squeeze(conv_out)\n",
        "print('G =', conv_out)\n",
        "\n"
      ],
      "metadata": {
        "id": "z95W5XF757Hy"
      },
      "execution_count": null,
      "outputs": []
    },
    {
      "cell_type": "code",
      "source": [
        "conv_out = tf.nn.conv2d(source, filter, 1, padding = 'VALID', data_format='NHWC')\n",
        "conv_out = np.squeeze(conv_out)\n",
        "print('G =', conv_out)\n"
      ],
      "metadata": {
        "id": "M-SShhxI6E5g"
      },
      "execution_count": null,
      "outputs": []
    },
    {
      "cell_type": "markdown",
      "source": [
        "\n",
        "\n",
        "Real convolution examples "
      ],
      "metadata": {
        "id": "NnqwaO4n6Npo"
      }
    },
    {
      "cell_type": "code",
      "metadata": {
        "id": "7FP5258xjs-v"
      },
      "source": [
        "mnist = tf.keras.datasets.mnist\n",
        "\n",
        "(x_train, y_train), (x_test, y_test) = mnist.load_data()\n",
        "x_train, x_test = x_train / 255.0, x_test / 255.0\n",
        "\n",
        "print(x_train.shape)\n",
        "\n",
        "plt.imshow(x_train[0], cmap='gray')\n",
        "plt.show()"
      ],
      "execution_count": null,
      "outputs": []
    },
    {
      "cell_type": "code",
      "metadata": {
        "id": "yTCn79DTm5Bb"
      },
      "source": [
        "box_filter = np.ones([3,3])/9.\n",
        "print('box_filter = ', box_filter)\n",
        "box_filter = tf.reshape(box_filter, [3, 3, 1, 1], name=None)#reshape\n",
        "\n",
        "\n",
        "tmp_in = x_train[0]\n",
        "tmp_in = tf.reshape(tmp_in, [1, 28, 28, 1], name=None)#reshape\n",
        "\n",
        "\n",
        "conv_out = tf.nn.conv2d(tmp_in, box_filter, 1, padding = 'SAME', data_format='NHWC', dilations=None, name=None)\n",
        "conv_out = np.squeeze(conv_out)\n",
        "\n",
        "\n",
        "plt.imshow(x_train[0], cmap='gray')\n",
        "plt.show()\n",
        "plt.imshow(conv_out, cmap='gray')\n",
        "plt.show()"
      ],
      "execution_count": null,
      "outputs": []
    },
    {
      "cell_type": "code",
      "source": [
        "edge_filter = np.zeros([3, 3])\n",
        "edge_filter[0,0] = -1\n",
        "edge_filter[0,2] = 1\n",
        "edge_filter[1,0] = -2\n",
        "edge_filter[1,2] = 2\n",
        "edge_filter[2,0] = -1\n",
        "edge_filter[2,2] = 1\n",
        "\n",
        "print('K =', edge_filter)\n",
        "\n",
        "\n",
        "edge_filter = tf.reshape(edge_filter, [3, 3, 1, 1], name=None)#reshape\n",
        "\n",
        "\n",
        "tmp_in = x_train[9]\n",
        "tmp_in = tf.reshape(tmp_in, [1, 28, 28, 1], name=None)#reshape\n",
        "\n",
        "\n",
        "conv_out = tf.nn.conv2d(tmp_in, edge_filter, 1, padding = 'SAME', data_format='NHWC', dilations=None, name=None)\n",
        "conv_out = np.squeeze(conv_out)\n",
        "\n",
        "\n",
        "plt.imshow(x_train[9], cmap='gray')\n",
        "plt.show()\n",
        "plt.imshow(tf.abs(conv_out), cmap='gray')\n",
        "plt.show()"
      ],
      "metadata": {
        "id": "6YtZtmZevrC3"
      },
      "execution_count": null,
      "outputs": []
    }
  ]
}